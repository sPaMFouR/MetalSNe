{
 "cells": [
  {
   "cell_type": "markdown",
   "id": "c2c6adbf-8281-4c00-b9ed-997c2e58aa4b",
   "metadata": {
    "tags": []
   },
   "source": [
    "## Aladin Target Viewer\n",
    "This is a Jupyter notebook for viewing targets with Aladin using Jupyter Notebook widgets.  \n",
    "\n",
    "List of HiPS Servers and Catalogs : https://aladin.u-strasbg.fr/hips/list"
   ]
  },
  {
   "cell_type": "code",
   "execution_count": null,
   "id": "c797001e-de22-4069-b008-c685f5665561",
   "metadata": {},
   "outputs": [],
   "source": [
    "#!/usr/bin/env python\n",
    "# xxxxxxxxxxxxxxxxxxxxxxxxxxxxxxxxxxxxxxxxxxxxxxxxxxxxxxxxxxxxxxxxxxxxxxxxxxxxxxxxxxxxxxxxxxxxxxxxxxxxxxxxxxxxxxxxxxx #\n",
    "# xxxxxxxxxxxxxxxxxxxxxxxxxxxxxxxxxx-------------ALADIN TARGET VIEWER--------------xxxxxxxxxxxxxxxxxxxxxxxxxxxxxxxxxx #\n",
    "# xxxxxxxxxxxxxxxxxxxxxxxxxxxxxxxxxxxxxxxxxxxxxxxxxxxxxxxxxxxxxxxxxxxxxxxxxxxxxxxxxxxxxxxxxxxxxxxxxxxxxxxxxxxxxxxxxxx #\n",
    "\n",
    "\n",
    "# ------------------------------------------------------------------------------------------------------------------- #\n",
    "# Import Required Libraries\n",
    "# ------------------------------------------------------------------------------------------------------------------- #\n",
    "import os\n",
    "import pandas as pd\n",
    "import astropy.units as u\n",
    "\n",
    "# Import Access to Portals and Archives\n",
    "from astroquery.simbad import Simbad\n",
    "from astroquery.vizier import Vizier\n",
    "from astroquery.xmatch import XMatch\n",
    "from astroquery.ipac.ned import Ned\n",
    "\n",
    "# For Visualization\n",
    "import ipyaladin as ipyal\n",
    "import ipywidgets as widgets\n",
    "# ------------------------------------------------------------------------------------------------------------------- #\n",
    "\n",
    "\n",
    "# ------------------------------------------------------------------------------------------------------------------- #\n",
    "# Global Variables\n",
    "# ------------------------------------------------------------------------------------------------------------------- #\n",
    "list_targets = 'TargetList.dat'\n",
    "# ------------------------------------------------------------------------------------------------------------------- #\n",
    "\n",
    "\n",
    "# ------------------------------------------------------------------------------------------------------------------- #\n",
    "# Read Sample of SNe For Fetching Thumbnails\n",
    "# ------------------------------------------------------------------------------------------------------------------- #\n",
    "\n",
    "if os.path.exists(list_targets):\n",
    "    target_df = pd.read_csv(list_targets, sep='\\s+', comment='#')\n",
    "    target_df = target_df[target_df['Plot'].isin(['y', 'Y'])]\n",
    "    target_df = target_df.drop(['Comments', 'Plot'], axis=1)\n",
    "\n",
    "# ------------------------------------------------------------------------------------------------------------------- #"
   ]
  },
  {
   "cell_type": "code",
   "execution_count": null,
   "id": "73a813b7",
   "metadata": {},
   "outputs": [],
   "source": [
    "\n",
    "https://aladin.u-strasbg.fr/hips/list\n",
    "\n",
    "aladin = ipyal.Aladin(target='Antennae', fov=0.5, survey='P/DSS2/color')    \n",
    "\n",
    "survey_selector = widgets.ToggleButtons(\n",
    "    options=['P/DSS2/color', 'P/2MASS/color', 'P/DSS2/red'],\n",
    "    description='Image:',\n",
    "    disabled=False,\n",
    "    tooltips=['DSS2 color', '2MASS color', 'DSS2 red'],\n",
    ")\n",
    "def on_survey_value_change(change):\n",
    "    aladin.survey = change['new']\n",
    "survey_selector.observe(on_survey_value_change, names='value')\n",
    "\n",
    "    \n",
    "survey_overlay_selector = widgets.ToggleButtons(\n",
    "    options=['P/DSS2/color', 'P/DSS2/red', 'P/2MASS/color', 'P/XMM/PN/color', 'P/GLIMPSE360', 'P/PanSTARRS/DR1/color-i-r-g'],\n",
    "    description='Overlay:',\n",
    "    disabled=False,\n",
    "    tooltips=['DSS2 color', 'DSS2 red', '2MASS color', 'P/XMM/PN/color', 'P/GLIMPSE360', 'PS1 Color'],\n",
    ")\n",
    "def on_survey_overlay_value_change(change):\n",
    "    aladin.overlay_survey = change['new']\n",
    "    aladin.overlay_survey_opacity = aladin.overlay_survey_opacity+0.00000001\n",
    "    \n",
    "survey_overlay_selector.observe(on_survey_overlay_value_change, names='value')\n",
    "\n",
    "overlay_opacity = widgets.FloatSlider(\n",
    "    value=0.0,\n",
    "    min=0,\n",
    "    max=1.0,\n",
    "    step=0.05,\n",
    "    description='Opacity:',\n",
    "    disabled=False,\n",
    "    continuous_update=True,\n",
    "    orientation='horizontal',\n",
    "    readout=True,\n",
    "    readout_format='.1f',\n",
    ")\n",
    "def on_surveyoverlay_opacity_value_change(change):\n",
    "    aladin.overlay_survey_opacity = change['new']\n",
    "    \n",
    "overlay_opacity.observe(on_surveyoverlay_opacity_value_change, names='value')\n",
    "\n",
    "\n",
    "zoom_slider =  widgets.FloatSlider(\n",
    "    value=180/aladin.fov,\n",
    "    min=1,\n",
    "    max=400,\n",
    "    step=1,\n",
    "    description='Zoom:',\n",
    "    disabled=False,\n",
    "    continuous_update=True,\n",
    "    orientation='horizontal',\n",
    "    readout=False,\n",
    "    readout_format='.1f',\n",
    ")  \n",
    "def on_zoom_slider_value_change(change):\n",
    "    aladin.fov = 180/change['new']\n",
    "zoom_slider.observe(on_zoom_slider_value_change, names='value')\n",
    "\n",
    "\n",
    "widgets.VBox([aladin, survey_selector, widgets.HBox([survey_overlay_selector, overlay_opacity]), zoom_slider])"
   ]
  },
  {
   "cell_type": "markdown",
   "id": "9b5a4508",
   "metadata": {},
   "source": [
    "You can play and explore these methods. But in the next cell, let's print the results of `list_votable_fields`"
   ]
  },
  {
   "cell_type": "code",
   "execution_count": null,
   "id": "27b9aed4",
   "metadata": {
    "scrolled": true
   },
   "outputs": [],
   "source": [
    "print(Simbad.list_votable_fields())\n"
   ]
  },
  {
   "cell_type": "markdown",
   "id": "6d515ef1",
   "metadata": {},
   "source": [
    "We get a list of the available fields we could query to obtain in a table. If we are uncertain about the meaning of a field, we can get a description with `Simbad.get_field_description('field_name')`.\n",
    "\n",
    "Scrolling the output of the cell above we also learn that the currently active fields are the main_id and the coordinates. If we want more information, we need to request it specifically. We can do so by running `Simbad.add_votable_fields('field_name')` before querying the object:"
   ]
  },
  {
   "cell_type": "code",
   "execution_count": null,
   "id": "800d0890",
   "metadata": {},
   "outputs": [],
   "source": [
    "Simbad.get_field_description('biblio')\n"
   ]
  },
  {
   "cell_type": "code",
   "execution_count": null,
   "id": "5d99af87",
   "metadata": {},
   "outputs": [],
   "source": [
    "Simbad.reset_votable_fields()\n",
    "Simbad.add_votable_fields('otype', 'dim', 'dim_bibcode', 'biblio')\n",
    "info_simbad = Simbad.query_object(\"NGC4038\")\n",
    "info_simbad\n"
   ]
  },
  {
   "cell_type": "markdown",
   "id": "e14c3821",
   "metadata": {},
   "source": [
    "We now know the object type \"galaxy in pair\" `GinPair`, the object dimensions (major axis `GALDIM_MAJAXIS`, minor axis `GALDIM_MINAXIS`, inclination angle `GALDIM_ANGLE`) with the related bibliographic reference.\n",
    "\n",
    "Let's search for linked objects: we query sources in a circle of 2 arcmin around NGC4038 of the same object type to find the other galaxy of the pair; then we query sources in the same area with 100% membership probability. "
   ]
  },
  {
   "cell_type": "code",
   "execution_count": null,
   "id": "ecf42ee9",
   "metadata": {
    "scrolled": true
   },
   "outputs": [],
   "source": [
    "siblings = Simbad.query_criteria(\n",
    "    'region(circle, NGC4038, 2m, 180)', otype='GinPair')\n",
    "siblings\n"
   ]
  },
  {
   "cell_type": "code",
   "execution_count": null,
   "id": "39549929",
   "metadata": {},
   "outputs": [],
   "source": [
    "members = Simbad.query_criteria(\n",
    "    'region(circle, NGC4038, 2m, 180)', membership=100)\n",
    "members\n"
   ]
  },
  {
   "cell_type": "markdown",
   "id": "8fd74788",
   "metadata": {},
   "source": [
    "You can learn more on the features of the Simbad python module here: https://astroquery.readthedocs.io/en/latest/simbad/simbad.html\n",
    "\n",
    "and on the Simbad query criteria: http://simbad.cds.unistra.fr/simbad/sim-fsam"
   ]
  },
  {
   "cell_type": "markdown",
   "id": "83dcdad2",
   "metadata": {},
   "source": [
    "## Step #2: Visualise the source on a sky map\n",
    "We now open the <ins>Aladin Lite</ins> widget. We set it first to **center** on the Antennae galaxies, have a **field of view** of 0.5 $^\\circ$ and show colour images from the Digitized Sky Survey ([DSS](https://archive.stsci.edu/cgi-bin/dss_form)). Typing `aladin` in the second line of code tells the notebook to display the widget. "
   ]
  },
  {
   "cell_type": "code",
   "execution_count": null,
   "id": "1aa25b5d",
   "metadata": {},
   "outputs": [],
   "source": [
    "aladin = ipyal.Aladin(target='Antennae', fov=0.5, survey='P/DSS2/color')\n",
    "aladin\n"
   ]
  },
  {
   "cell_type": "markdown",
   "id": "e9b90cc9",
   "metadata": {},
   "source": [
    "As with any Aladin Lite implementation, you can interact with this widget. Try to:\n",
    " - scroll with your mouse pointer on the image to zoom in and out,  \n",
    " - select other image surveys and manage the current view with <img src=\"Data/images/ipyaladin_layer.png\" alt=\"the Layer Button\" style=\"width:30px; display: inline-block;\"/>.\n",
    " - look at another target using the search field <img src=\"Data/images/ipyaladin_search.png\" alt=\"the Search Button\" style=\"width:30px; display: inline-block;\"/>. \n",
    "\n",
    "You can also directly change the properties of the variable `Aladin`. For example, to focus on M101 instead of the Antennae galaxies:"
   ]
  },
  {
   "cell_type": "code",
   "execution_count": null,
   "id": "b554a762",
   "metadata": {},
   "outputs": [],
   "source": [
    "aladin.target = 'M101'\n"
   ]
  },
  {
   "cell_type": "markdown",
   "id": "497c34fe",
   "metadata": {},
   "source": [
    "Feel free to explore other targets and methods available for the Aladin widget."
   ]
  },
  {
   "cell_type": "markdown",
   "id": "c79ed516",
   "metadata": {},
   "source": [
    "## Step #3: Find  additional data\n",
    "\n",
    "We want to look for data related to HII regions in these interacting galaxies. We make a query in <ins>Simbad</ins> for HII regions within 14 arcmins around the Antennae galaxies. "
   ]
  },
  {
   "cell_type": "code",
   "execution_count": null,
   "id": "5a32296b",
   "metadata": {},
   "outputs": [],
   "source": [
    "table_simbad = Simbad.query_criteria(\n",
    "    'region(circle, Antennae, 14m)', maintype='HII')\n",
    "table_simbad.show_in_notebook(display_length=15)\n"
   ]
  },
  {
   "cell_type": "markdown",
   "id": "61958f83",
   "metadata": {},
   "source": [
    "Once we have identified a bibliographic reference of interest, we can search the corresponding catalogs on <ins>VizieR</ins>. Here, the Biblio column has quite some occurrences of the reference `'2015MNRAS.451.1307Z'`.\n",
    "\n",
    "Remember that by default VizieR will only return 50 entries (as in the web interface). To get all sources, set `ROW_LIMIT=-1`.\n",
    "\n",
    "A good practice is to check first what data are available by querying only a subsample, then customize your Vizier query with the useful rows and columns before downloading the entire catalog."
   ]
  },
  {
   "cell_type": "code",
   "execution_count": null,
   "id": "81ddc455",
   "metadata": {},
   "outputs": [],
   "source": [
    "cat_viz = Vizier(row_limit=10).get_catalogs('2015MNRAS.451.1307Z')\n",
    "cat_viz\n"
   ]
  },
  {
   "cell_type": "markdown",
   "id": "4b881442",
   "metadata": {},
   "source": [
    "In the example above, we see that 2 tables are associated with the reference 2015MNRAS.451.1307Z: a table called 'HIIreg' accessible by the index [0] and a table called 'list' accessible by the index [1]. The number of rows has been fixed by the parameter `row_limit=10`.\n",
    "\n",
    "Let's check the 'HIIreg' table:"
   ]
  },
  {
   "cell_type": "code",
   "execution_count": null,
   "id": "f68b359a",
   "metadata": {
    "scrolled": true
   },
   "outputs": [],
   "source": [
    "print(cat_viz[0].meta['description'])\n",
    "\n",
    "cat_viz[0].show_in_notebook()\n"
   ]
  },
  {
   "cell_type": "markdown",
   "id": "a001606b",
   "metadata": {},
   "source": [
    "As for every function in python, we can call `Vizier?` in a code cell and run it to print the documentation. Here we can directly read that `columns` should be a list, `column_filters` a dictionary, and `row_limits` is an int for which -1 means infinity."
   ]
  },
  {
   "cell_type": "code",
   "execution_count": null,
   "id": "9e96cf83",
   "metadata": {},
   "outputs": [],
   "source": [
    "Vizier?\n"
   ]
  },
  {
   "cell_type": "markdown",
   "id": "e4b26551",
   "metadata": {},
   "source": [
    "Now we can customize our VizieR query by selecting columns, filtering over the interacting galaxies (`n_Name='int'`), and keeping only the first region for each galaxy (`Seq=1`, for visualization purposes)."
   ]
  },
  {
   "cell_type": "code",
   "execution_count": null,
   "id": "8d3308b8",
   "metadata": {},
   "outputs": [],
   "source": [
    "myViz = Vizier(columns=['Name', 'RAJ2000', 'DEJ2000', 'logLHa', 'R', 'sigma'],\n",
    "               column_filters={'Seq': '==1', 'n_Name': 'int'}, row_limit=-1)\n",
    "\n",
    "cat_hii = myViz.get_catalogs('2015MNRAS.451.1307Z')[0]\n",
    "cat_hii.show_in_notebook()\n"
   ]
  },
  {
   "cell_type": "markdown",
   "id": "91e09bd7",
   "metadata": {},
   "source": [
    "We can also display the table on <ins>Aladin</ins>. \n",
    "This should work by simply typing `aladin.add_table(cat_hii)`\n",
    "but if you get errors in the format of some columns, \n",
    "you can just send the name and coordinates to Aladin:"
   ]
  },
  {
   "cell_type": "code",
   "execution_count": null,
   "id": "b1649a7a",
   "metadata": {},
   "outputs": [],
   "source": [
    "aladin.add_table(cat_hii['Name', 'RAJ2000', 'DEJ2000'])\n"
   ]
  },
  {
   "cell_type": "markdown",
   "id": "cd7b2fb8",
   "metadata": {},
   "source": [
    "Go up to the <ins>Aladin Lite</ins> widget, zoom out to see all the sources, then rotate and zoom in to see the interacting galaxies. You can click on one source to display the information in the table. \n",
    "\n",
    "Change the view to the AllWISE Infrared survey, either in the widget:\n",
    "\n",
    "`Base image layer -> The Wide-field Infrared Survey Explorer` \n",
    "\n",
    "or in the command line below.\n",
    "\n",
    "You can find the list of available sky maps at https://aladin.u-strasbg.fr/hips/list"
   ]
  },
  {
   "cell_type": "code",
   "execution_count": null,
   "id": "bef37a4f",
   "metadata": {},
   "outputs": [],
   "source": [
    "aladin.survey = 'P/allWISE/color'\n"
   ]
  },
  {
   "cell_type": "markdown",
   "id": "2f035030",
   "metadata": {},
   "source": [
    "If you want to overlay the survey instead of replacing it:\n",
    "\n",
    "`aladin.overlay_survey= 'P/allWISE/color'`\n",
    "\n",
    "`aladin.overlay_survey_opacity = 0.5`"
   ]
  },
  {
   "cell_type": "markdown",
   "id": "dc6c20f2",
   "metadata": {},
   "source": [
    "**Exercise:**\n",
    "\n",
    "Retrieve the second table from Zaragoza-Cardiel+, 2015 (2015MNRAS.451.1307Z) containing data related to the image fits files and try to answer the questions:\n",
    "- What are the typical sizes of the fits images?\n",
    "- What is the approximate resolution of the images? [arcsec/pix]"
   ]
  },
  {
   "cell_type": "code",
   "execution_count": null,
   "id": "9c82126a",
   "metadata": {},
   "outputs": [],
   "source": [
    "# write your code here\n"
   ]
  },
  {
   "cell_type": "markdown",
   "id": "2395d384",
   "metadata": {},
   "source": [
    "## Step #5: Cross-match tables\n",
    "\n",
    "We have HII data for a sample of interacting galaxies. Since we are also interested in the infrared fluxes we search for the Wide-field Infrared Survey Explorer ([AllWISE](https://wise2.ipac.caltech.edu/docs/release/allwise/)) data release. \n",
    "\n",
    "We want to match the sources in J/MNRAS/451/1307/HIIreg with the AllWISE source catalog that contains 747 million objects!\n",
    "\n",
    "We use the <ins>X-Match</ins> python module for cross-identification of objects. It is particularly efficient and fast with very large catalogs, like AllWISE. All we need are the names of the catalogs, the names of the columns containing the coordinates of the sources, and the desired maximum distance for the match (optionally the area as well, otherwise all-sky is the default)."
   ]
  },
  {
   "cell_type": "code",
   "execution_count": null,
   "id": "0c628188",
   "metadata": {},
   "outputs": [],
   "source": [
    "# What is the AllWISE catalogue reference in VizieR?\n",
    "cat_allwise = Vizier.get_catalogs('AllWISE')\n",
    "cat_allwise\n"
   ]
  },
  {
   "cell_type": "code",
   "execution_count": null,
   "id": "01e608f6",
   "metadata": {},
   "outputs": [],
   "source": [
    "xmatch_zbf_wise = XMatch.query(cat1='vizier:J/MNRAS/451/1307/HIIreg',\n",
    "                               cat2='vizier:II/328/allwise',\n",
    "                               max_distance=10 * u.arcsec,\n",
    "                               colRA1='RAJ2000', colDec1='DEJ2000',\n",
    "                               colRA2='RAJ2000', colDec2='DEJ2000')\n",
    "xmatch_zbf_wise.show_in_notebook()\n"
   ]
  },
  {
   "cell_type": "markdown",
   "id": "f8ce7eeb",
   "metadata": {},
   "source": [
    "<h4 align=\"center\">This is the end of the tutorial.</h4> \n",
    "\n",
    "<h4 align=\"center\">Try to apply what you have learned here to your data sets and science cases! </h4>"
   ]
  },
  {
   "cell_type": "markdown",
   "id": "3529eacf",
   "metadata": {},
   "source": []
  }
 ],
 "metadata": {
  "kernelspec": {
   "display_name": "Python 3 (ipykernel)",
   "language": "python",
   "name": "python3"
  },
  "language_info": {
   "codemirror_mode": {
    "name": "ipython",
    "version": 3
   },
   "file_extension": ".py",
   "mimetype": "text/x-python",
   "name": "python",
   "nbconvert_exporter": "python",
   "pygments_lexer": "ipython3",
   "version": "3.9.13"
  },
  "vscode": {
   "interpreter": {
    "hash": "916dbcbb3f70747c44a77c7bcd40155683ae19c65e1c03b4aa3499c5328201f1"
   }
  }
 },
 "nbformat": 4,
 "nbformat_minor": 5
}
